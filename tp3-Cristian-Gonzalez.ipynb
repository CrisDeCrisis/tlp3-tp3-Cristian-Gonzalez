{
 "cells": [
  {
   "cell_type": "markdown",
   "id": "498731c6",
   "metadata": {},
   "source": [
    "# Trabajo Practico n3 - Trabajando con Lists y Sets.\n",
    "## Criterios de evaluación.\n",
    "\n",
    "* Se deben utilizar nombres de variables descriptivos y claros (Utilizar la nomeclatura correspondiente para los nombres de variables).\n",
    "* Comentarios claros y concisos que expliquen el propósito de cada sección del código.\n",
    "* Utilizar mensajes de commit **descriptivos**. (Puedes utilizar la extension CONVENTIONAL COMMIT de VS-CODE). \n",
    "* Entrega en tiempo y forma.\n",
    "* Todo el código desarrollado debe ser subido a un repositorio en GitHub (el nombre del repositorio de seguir la siguiente estructura: tp3_tlp3_nombre_apellido).\n",
    "* Para resolver las actividades se debe insertar casillas de codigo entre cada actividad del cuaderno de Jupyter\n",
    "* El repositorio de GitHub debe incluir un archivo README.md con las instrucciones necesarias para la correcta ejecución del código.\n",
    "\n",
    "### ¡Importante!\n",
    "**El incumplimiento de los criterios de evaluación restará puntos en la nota final del práctico!**"
   ]
  },
  {
   "cell_type": "markdown",
   "id": "b361a7b6",
   "metadata": {},
   "source": [
    "### Actividad 1: \n",
    "Suma de todos los elementos de una lista, utilizando bucles repetitivos (for, while)."
   ]
  },
  {
   "cell_type": "code",
   "execution_count": 1,
   "id": "26009294",
   "metadata": {},
   "outputs": [
    {
     "name": "stdout",
     "output_type": "stream",
     "text": [
      "La suma de los elementos de la lista es: 204\n"
     ]
    }
   ],
   "source": [
    "\n",
    "# todo:\n",
    "numbers = [14, 23, 34, 48, 85]\n",
    "\n",
    "def suma_lista(numbers):\n",
    "    suma = 0\n",
    "    for number in numbers:\n",
    "        suma += number\n",
    "    return suma\n",
    "\n",
    "\n",
    "resultado = suma_lista(numbers)\n",
    "print(\"La suma de los elementos de la lista es:\", resultado)\n"
   ]
  },
  {
   "cell_type": "markdown",
   "id": "0c239195",
   "metadata": {},
   "source": [
    "### Actividad 2: \n",
    "Encontrar el número más grande en una lista, utilizando bucles repetitivos (for, while)."
   ]
  },
  {
   "cell_type": "code",
   "execution_count": null,
   "id": "3611d25a",
   "metadata": {},
   "outputs": [
    {
     "name": "stdout",
     "output_type": "stream",
     "text": [
      "La lista de números aleatorios es: [44, 44, 66, 91, 18]\n",
      "El número más grande de la lista es: 91\n"
     ]
    }
   ],
   "source": [
    "\n",
    "# todo:\n",
    "\n",
    "from random import randint\n",
    "random_numbers = [randint(1, 100) for i in range(5)]\n",
    "\n",
    "def max_lista(numbers):\n",
    "    maximo = numbers[0]\n",
    "    for number in numbers:\n",
    "        if number > maximo:\n",
    "            maximo = number\n",
    "    return maximo\n",
    "\n",
    "resultado = max_lista(random_numbers)\n",
    "print(\"La lista de números aleatorios es:\", random_numbers)\n",
    "print(\"El número más grande de la lista es:\", resultado)\n"
   ]
  },
  {
   "cell_type": "markdown",
   "id": "70a24b97",
   "metadata": {},
   "source": [
    "### Actividad 3:\n",
    "Contar cuántas veces aparece un número específico. Utiliza estructuras repetitivas para la resolucion de este ejercicio. "
   ]
  },
  {
   "cell_type": "code",
   "execution_count": 21,
   "id": "a9c8ebc7",
   "metadata": {},
   "outputs": [
    {
     "name": "stdout",
     "output_type": "stream",
     "text": [
      "La lista de números aleatorios es: \n",
      " [168, 101, 36, 43, 188, 22, 71, 52, 96, 144, 110, 12, 56, 115, 146, 6, 3, 12, 93, 171]\n",
      "La cantidad de veces que se repite cada número es: \n",
      " 168: 1 vez/veces\n",
      " 101: 1 vez/veces\n",
      " 36: 1 vez/veces\n",
      " 43: 1 vez/veces\n",
      " 188: 1 vez/veces\n",
      " 22: 1 vez/veces\n",
      " 71: 1 vez/veces\n",
      " 52: 1 vez/veces\n",
      " 96: 1 vez/veces\n",
      " 144: 1 vez/veces\n",
      " 110: 1 vez/veces\n",
      " 12: 2 vez/veces\n",
      " 56: 1 vez/veces\n",
      " 115: 1 vez/veces\n",
      " 146: 1 vez/veces\n",
      " 6: 1 vez/veces\n",
      " 3: 1 vez/veces\n",
      " 93: 1 vez/veces\n",
      " 171: 1 vez/veces\n"
     ]
    }
   ],
   "source": [
    "\n",
    "# todo:\n",
    "\n",
    "lista = [randint(1, 200) for i in range(20)]\n",
    "\n",
    "def contar_repeticiones(lista):\n",
    "    contador = {}\n",
    "    for numero in lista:\n",
    "        if numero in contador:\n",
    "            contador[numero] += 1\n",
    "        else:\n",
    "            contador[numero] = 1\n",
    "    return contador\n",
    "\n",
    "resultado = contar_repeticiones(lista)\n",
    "print(\"La lista de números aleatorios es: \\n\", lista)\n",
    "print(\"La cantidad de veces que se repite cada número es: \")\n",
    "\n",
    "for numero, contador in resultado.items():\n",
    "    print(f\" {numero}: {contador} vez/veces\")\n"
   ]
  },
  {
   "cell_type": "markdown",
   "id": "b8dac397",
   "metadata": {},
   "source": [
    "### Actividad 4: \n",
    "Invertir una lista sin usar reverse() ni [::-1]"
   ]
  },
  {
   "cell_type": "code",
   "execution_count": 26,
   "id": "d04fd492",
   "metadata": {},
   "outputs": [
    {
     "name": "stdout",
     "output_type": "stream",
     "text": [
      "La lista original es: [1, 37, 18, 20, 6, 15, 8, 19]\n",
      "La lista invertida es: [19, 8, 15, 6, 20, 18, 37, 1]\n"
     ]
    }
   ],
   "source": [
    "\n",
    "# todo:\n",
    "\n",
    "lista_dos = [randint(1, 50) for i in range(8)]\n",
    "\n",
    "def invertir_lista(lista):\n",
    "    lista_invertida = []\n",
    "    for numero in range(len(lista)-1, -1, -1):\n",
    "        lista_invertida.append(lista[numero])\n",
    "    return lista_invertida\n",
    "\n",
    "resultado = invertir_lista(lista_dos)\n",
    "print(\"La lista original es:\", lista_dos)\n",
    "print(\"La lista invertida es:\", resultado)\n"
   ]
  },
  {
   "cell_type": "markdown",
   "id": "8889d0f2",
   "metadata": {},
   "source": [
    "### Actividad 5:\n",
    "Sumar los elementos de dos listas posición por posición, utilizando solo bucles repetititivos (for,while)."
   ]
  },
  {
   "cell_type": "code",
   "execution_count": null,
   "id": "bc0ec844",
   "metadata": {},
   "outputs": [
    {
     "name": "stdout",
     "output_type": "stream",
     "text": [
      "La lista uno es: [2, 4, 6, 7, 8]\n",
      "La lista dos es: [1, 3, 5, 9, 10]\n",
      "La suma de ambas listas es: [3, 7, 11, 16, 18]\n"
     ]
    }
   ],
   "source": [
    "\n",
    "# todo:\n",
    "\n",
    "lista_uno = [ 2,4,6,7,8 ]\n",
    "lista_dos = [ 1,3,5,9,10 ]\n",
    "\n",
    "def sumar_listas(lista_uno, lista_dos):\n",
    "    suma = []\n",
    "    for i in range(len(lista_uno)):\n",
    "        suma.append(lista_uno[i] + lista_dos[i])\n",
    "    return suma\n",
    "\n",
    "resultado = sumar_listas(lista_uno, lista_dos)\n",
    "print(\"La lista uno es:\", lista_uno)\n",
    "print(\"La lista dos es:\", lista_dos)\n",
    "print(\"La suma de ambas listas es:\", resultado)\n"
   ]
  },
  {
   "cell_type": "markdown",
   "id": "8ce33e6b",
   "metadata": {},
   "source": [
    "### Actividad 6:\n",
    "\n",
    "Escribir un programa que almacene el abecedario en una lista, elimine de la lista las letras que ocupen posiciones múltiplos de 3, y muestre por pantalla la lista resultante."
   ]
  },
  {
   "cell_type": "code",
   "execution_count": 31,
   "id": "b07326e2",
   "metadata": {},
   "outputs": [
    {
     "name": "stdout",
     "output_type": "stream",
     "text": [
      "El abecedario es: ['A', 'B', 'C', 'D', 'E', 'F', 'G', 'H', 'I', 'J', 'K', 'L', 'M', 'N', 'O', 'P', 'Q', 'R', 'S', 'T', 'U', 'V', 'W', 'X', 'Y', 'Z']\n",
      "El abecedario sin las letras en posiciones múltiplos de 3 es: ['A', 'B', 'D', 'E', 'G', 'H', 'J', 'K', 'M', 'N', 'P', 'Q', 'S', 'T', 'V', 'W', 'Y', 'Z']\n"
     ]
    }
   ],
   "source": [
    "\n",
    "# todo:\n",
    "\n",
    "def eliminar_multiplo_tres():\n",
    "    abecedario = [chr(i) for i in range(65, 91)]\n",
    "    print(\"El abecedario es:\", abecedario)\n",
    "    abecedario = [letra for i, letra in enumerate(abecedario) if (i + 1) % 3 != 0]\n",
    "    return abecedario\n",
    "\n",
    "resultado = eliminar_multiplo_tres()\n",
    "print(\"El abecedario sin las letras en posiciones múltiplos de 3 es:\", resultado)"
   ]
  },
  {
   "cell_type": "markdown",
   "id": "5bfeb4b5",
   "metadata": {},
   "source": [
    "### Actividad 7:\n",
    "\n",
    "Escribir un programa que pida al usuario una palabra y muestre por pantalla si es un palíndromo (una palabra que se escribe de la misma forma al derecho y al reves)."
   ]
  },
  {
   "cell_type": "code",
   "execution_count": 33,
   "id": "2365afcc",
   "metadata": {},
   "outputs": [
    {
     "name": "stdout",
     "output_type": "stream",
     "text": [
      "Neuquen es un palíndromo.\n"
     ]
    }
   ],
   "source": [
    "\n",
    "# todo:\n",
    "\n",
    "def es_palindromo(palabra):\n",
    "    palabra = palabra.lower()\n",
    "    return palabra == palabra[::-1]\n",
    "\n",
    "palabra = input(\"Introduce una palabra: \")\n",
    "\n",
    "if es_palindromo(palabra):\n",
    "    print(f\"{palabra} es un palíndromo.\")\n",
    "else:\n",
    "    print(f\"{palabra} no es un palíndromo.\")"
   ]
  },
  {
   "cell_type": "markdown",
   "id": "ed8b51be",
   "metadata": {},
   "source": [
    "### Actividad 8:\n",
    "\n",
    "Teniendo en cuenta el conjunto 1 y el conjunto 2, sin usar el operador de intersección &, calcular la intersección de dichos conjuntos."
   ]
  },
  {
   "cell_type": "code",
   "execution_count": null,
   "id": "21a434b9",
   "metadata": {},
   "outputs": [],
   "source": [
    "conjunto1 = {1, 2, 3, 4}\n",
    "conjunto2 = {3, 4, 5, 6}\n",
    "# todo:"
   ]
  },
  {
   "cell_type": "markdown",
   "id": "31b460dc",
   "metadata": {},
   "source": [
    "### Actividad 9:\n",
    "Eliminar duplicados de una lista usando un set."
   ]
  },
  {
   "cell_type": "code",
   "execution_count": null,
   "id": "0ef62008",
   "metadata": {},
   "outputs": [],
   "source": [
    "\n",
    "# todo:\n",
    "lista = [1, 2, 2, 3, 4, 4, 5]\n"
   ]
  },
  {
   "cell_type": "markdown",
   "id": "075f1f2c",
   "metadata": {},
   "source": [
    "### Actividad 10:\n",
    "\n",
    "Escribir un programa que cree 2 matrices y realice su multiplicacion."
   ]
  },
  {
   "cell_type": "code",
   "execution_count": null,
   "id": "4c1fd0e1",
   "metadata": {},
   "outputs": [],
   "source": [
    "\n",
    "# todo:"
   ]
  }
 ],
 "metadata": {
  "kernelspec": {
   "display_name": "Python 3",
   "language": "python",
   "name": "python3"
  },
  "language_info": {
   "codemirror_mode": {
    "name": "ipython",
    "version": 3
   },
   "file_extension": ".py",
   "mimetype": "text/x-python",
   "name": "python",
   "nbconvert_exporter": "python",
   "pygments_lexer": "ipython3",
   "version": "3.12.9"
  }
 },
 "nbformat": 4,
 "nbformat_minor": 5
}
